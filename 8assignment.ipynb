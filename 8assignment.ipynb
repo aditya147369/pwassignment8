{
 "cells": [
  {
   "cell_type": "markdown",
   "id": "08cfc0f2-e616-43b0-8e5f-7460402fee68",
   "metadata": {},
   "source": [
    "Q1. What is an Exception in python? Write the difference between Exceptions and Syntax errors."
   ]
  },
  {
   "cell_type": "markdown",
   "id": "71e9052f-09be-450c-9e06-e6c31e79fad8",
   "metadata": {},
   "source": [
    "In python an exception is a special case which occurs when an error is encountered excerption consists of 4 blocks of\n",
    "conditions try, except, else and finally the try checks the condition and it finds error it raises exception and  executes the exception block and print our version of error of predefined error by using alias the else block will be executed if try block dosent find any error and the finally block will be executed even if try block finds error or not.\n",
    "\n",
    "\n",
    "The difference between exception and syntax error is that when an error is occurred then the exception will try to handle it by using predefined error or user defined error it will just show the error also the code before and after exception will be executed. But in syntax error when error is occurred the entire program will fail without any output."
   ]
  },
  {
   "cell_type": "markdown",
   "id": "d14d3d17-dfde-4644-be44-d3b7816dc7af",
   "metadata": {},
   "source": [
    "Q2. What happens when an exception is not handled? Explain with an example."
   ]
  },
  {
   "cell_type": "code",
   "execution_count": 11,
   "id": "ac83a149-ef7d-44ef-a56f-a90dba9500e7",
   "metadata": {},
   "outputs": [
    {
     "ename": "ZeroDivisionError",
     "evalue": "division by zero",
     "output_type": "error",
     "traceback": [
      "\u001b[0;31m---------------------------------------------------------------------------\u001b[0m",
      "\u001b[0;31mZeroDivisionError\u001b[0m                         Traceback (most recent call last)",
      "Cell \u001b[0;32mIn[11], line 7\u001b[0m\n\u001b[1;32m      4\u001b[0m     a \u001b[38;5;241m=\u001b[39m \u001b[38;5;241m10\u001b[39m\u001b[38;5;241m/\u001b[39m\u001b[38;5;241m0\u001b[39m\n\u001b[1;32m      5\u001b[0m     \u001b[38;5;28;01mreturn\u001b[39;00m a\n\u001b[0;32m----> 7\u001b[0m \u001b[38;5;28mprint\u001b[39m(\u001b[43mtest\u001b[49m\u001b[43m(\u001b[49m\u001b[43m)\u001b[49m)\n\u001b[1;32m      8\u001b[0m \u001b[38;5;28mprint\u001b[39m(\u001b[38;5;124m\"\u001b[39m\u001b[38;5;124mHere if exception was handled this line would have been printed\u001b[39m\u001b[38;5;124m\"\u001b[39m)\n",
      "Cell \u001b[0;32mIn[11], line 4\u001b[0m, in \u001b[0;36mtest\u001b[0;34m()\u001b[0m\n\u001b[1;32m      3\u001b[0m \u001b[38;5;28;01mdef\u001b[39;00m \u001b[38;5;21mtest\u001b[39m():\n\u001b[0;32m----> 4\u001b[0m     a \u001b[38;5;241m=\u001b[39m \u001b[38;5;241;43m10\u001b[39;49m\u001b[38;5;241;43m/\u001b[39;49m\u001b[38;5;241;43m0\u001b[39;49m\n\u001b[1;32m      5\u001b[0m     \u001b[38;5;28;01mreturn\u001b[39;00m a\n",
      "\u001b[0;31mZeroDivisionError\u001b[0m: division by zero"
     ]
    }
   ],
   "source": [
    "'''When an exception is not handled it is going to throw the specific error which was supposed to be handled and also the \n",
    "code which is implemented after the exception handling code will not be executed it will throw error and get stoped'''\n",
    "def test():\n",
    "    a = 10/0\n",
    "    return a\n",
    "\n",
    "print(test())\n",
    "print(\"Here if exception was handled this line would have been printed\")"
   ]
  },
  {
   "cell_type": "markdown",
   "id": "0f874ebc-e7a5-4c42-9522-0ec2b4ea463f",
   "metadata": {},
   "source": [
    "Q3. Which Python statements are used to catch and handle exceptions? Explain with an example"
   ]
  },
  {
   "cell_type": "code",
   "execution_count": 12,
   "id": "0b0d3961-b6d4-4057-9d08-c2f0bdb10ce1",
   "metadata": {},
   "outputs": [
    {
     "name": "stdout",
     "output_type": "stream",
     "text": [
      "division by zero\n",
      "Here exception is handled so now the code below will be also executed\n"
     ]
    }
   ],
   "source": [
    "'''The python statements that are used to catch and handle exceptions are called try and except the try block will check \n",
    "the condition and if it finds error then the except block is executed where we can define our own meaning of error or use\n",
    "alias for showing predefined error'''\n",
    "def test():\n",
    "    a = 10/0\n",
    "    return a\n",
    "\n",
    "try:\n",
    "    print(test())\n",
    "except Exception as e:\n",
    "    print(e)\n",
    "\n",
    "print(\"Here exception is handled so now the code below will be also executed\")"
   ]
  },
  {
   "cell_type": "markdown",
   "id": "1da0d83e-4cfe-4efb-81c6-f5e68100d963",
   "metadata": {},
   "source": [
    "Q4. Explain with on example\n",
    "a. try and else \n",
    "b. finally\n",
    "c. raise"
   ]
  },
  {
   "cell_type": "code",
   "execution_count": 14,
   "id": "e82cc29e-80f8-407f-ba8b-bfbbfed4e373",
   "metadata": {},
   "outputs": [
    {
     "name": "stdout",
     "output_type": "stream",
     "text": [
      "1.0\n",
      "End of program\n",
      "error undefined\n",
      "End of program\n"
     ]
    }
   ],
   "source": [
    "'''1. The try block will check the condition and if it raises error the except and finally block will be executed.\n",
    "2. The else block will be executed if the try block doesn't find error here the except block will not be called.\n",
    "3. The finally block is executed everytime while exception handling process even the try block catches error or not it will \n",
    "be executed.\n",
    "4. Raise is a reserved keyword in python which is used exiplictly when a code come aceoss an error we can use raise keyword \n",
    "to predefine our own meaning of error.'''\n",
    "def test(x,y):\n",
    "\n",
    "    try:\n",
    "        if y == 0:\n",
    "            raise ZeroDivisionError(\"undefined\")\n",
    "    except Exception as e:\n",
    "        print(\"error\",e)\n",
    "    else:\n",
    "        print(x/y)\n",
    "    finally:\n",
    "        print(\"End of program\")\n",
    "\n",
    "test(5,5)\n",
    "test(5,0)"
   ]
  },
  {
   "cell_type": "markdown",
   "id": "45842696-d7ab-4333-9aad-88e126662255",
   "metadata": {},
   "source": [
    "Q5, What are Custom Exceptions in python? Why do we need Custom Exceptions? Explain with an example"
   ]
  },
  {
   "cell_type": "code",
   "execution_count": 16,
   "id": "cad1ccf1-c544-46d4-9ae4-1bad0d1cb433",
   "metadata": {},
   "outputs": [
    {
     "name": "stdout",
     "output_type": "stream",
     "text": [
      "Invalid age -21\n",
      "Invalid age 160\n"
     ]
    }
   ],
   "source": [
    "'''In python custom exceptions are user-defined exception classes that you can create to handle specific error conditions\n",
    "that are needed in your program. These custom exceptions allow you to raise errors that are not provided by the built-in \n",
    "xceptions class. For example if we want to check valid age as we know age cannot be less than 0 or maybe greater than 150\n",
    "for checking that we can built custom exception.'''\n",
    "class Test1(Exception):\n",
    "    def __init__(self, message):\n",
    "        self.message = message\n",
    "\n",
    "def age_validity(age):\n",
    "    if age>=0 and age<=150:\n",
    "        print(\"Valid age\")\n",
    "    else:\n",
    "        raise Test1(\"Invalid age {}\".format(age))\n",
    "\n",
    "a = -21\n",
    "try:\n",
    "    age_validity(a)\n",
    "except Test1 as e:\n",
    "    print(e)\n",
    "\n",
    "b = 160\n",
    "try:\n",
    "    age_validity(b)  \n",
    "except Test1 as e:\n",
    "    print(e)"
   ]
  },
  {
   "cell_type": "markdown",
   "id": "4980cfba-9add-4fae-90f9-fdbe8cf7f67a",
   "metadata": {},
   "source": [
    "Q6. Create a custom exception class. Use this class to handle on exception"
   ]
  },
  {
   "cell_type": "code",
   "execution_count": 17,
   "id": "34d5146e-ee56-4b75-894c-7ce31dff233e",
   "metadata": {},
   "outputs": [
    {
     "name": "stdout",
     "output_type": "stream",
     "text": [
      "valid name ADITYA\n",
      "invalid name aditya\n"
     ]
    }
   ],
   "source": [
    "\"Below is the example of custom exception handling for checking if a name is in upper case or not\" \n",
    "class test(Exception):\n",
    "\n",
    "    def __init__(self,message):\n",
    "        self.message = message\n",
    "\n",
    "def valid_name(name):\n",
    "\n",
    "    if name.isupper():\n",
    "        print(\"valid name {}\".format(name))\n",
    "    else:\n",
    "        raise test(\"invalid name {}\".format(name))\n",
    "a = \"ADITYA\"\n",
    "\n",
    "try:\n",
    "    valid_name(a)\n",
    "    \n",
    "except test as e:\n",
    "    print(e)\n",
    "    a = \"ADITYA\"\n",
    "b = \"aditya\"\n",
    "try:\n",
    "    valid_name(b)\n",
    "    \n",
    "except test as e:\n",
    "    print(e)"
   ]
  },
  {
   "cell_type": "code",
   "execution_count": null,
   "id": "843f8ff3-bcb3-4b91-b580-6d3df370a7a0",
   "metadata": {},
   "outputs": [],
   "source": []
  }
 ],
 "metadata": {
  "kernelspec": {
   "display_name": "Python 3 (ipykernel)",
   "language": "python",
   "name": "python3"
  },
  "language_info": {
   "codemirror_mode": {
    "name": "ipython",
    "version": 3
   },
   "file_extension": ".py",
   "mimetype": "text/x-python",
   "name": "python",
   "nbconvert_exporter": "python",
   "pygments_lexer": "ipython3",
   "version": "3.10.8"
  }
 },
 "nbformat": 4,
 "nbformat_minor": 5
}
